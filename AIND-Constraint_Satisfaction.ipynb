{
 "cells": [
  {
   "cell_type": "markdown",
   "metadata": {},
   "source": [
    "# Constraint Satisfaction Problems Lab\n",
    "\n",
    "## Introduction\n",
    "Constraint Satisfaction is a technique for solving problems by expressing limits on the values of each variable in the solution with mathematical constraints.  We've used constraints before -- constraints in the Sudoku project are enforced implicitly by filtering the legal values for each box, and the planning project represents constraints as arcs connecting nodes in the planning graph -- but in this lab exercise we will use a symbolic math library to explicitly construct binary constraints and then use Backtracking to solve the N-queens problem (which is a generalization [8-queens problem](https://en.wikipedia.org/wiki/Eight_queens_puzzle)).  Using symbolic constraints should make it easier to visualize and reason about the constraints (especially for debugging), but comes with a performance penalty.\n",
    "\n",
    "![8-queens puzzle solution](EightQueens.gif)\n",
    "\n",
    "Briefly, the 8-queens problem asks you to place 8 queens on a standard 8x8 chessboard such that none of the queens are in \"check\" (i.e., no two queens occupy the same row, column, or diagonal). The N-queens problem generalizes the puzzle to to any size square board.\n",
    "\n",
    "## I. Lab Overview\n",
    "Students should read through the code and the wikipedia page (or other resources) to understand the N-queens problem, then:\n",
    "\n",
    "0. Complete the warmup exercises in the [Sympy_Intro notebook](Sympy_Intro.ipynb) to become familiar with they sympy library and symbolic representation for constraints\n",
    "0. Implement the [NQueensCSP class](#II.-Representing-the-N-Queens-Problem) to develop an efficient encoding of the N-queens problem and explicitly generate the constraints bounding the solution\n",
    "0. Write the [search functions](#III.-Backtracking-Search) for recursive backtracking, and use them to solve the N-queens problem\n",
    "0. (Optional) Conduct [additional experiments](#IV.-Experiments-%28Optional%29) with CSPs and various modifications to the search order (minimum remaining values, least constraining value, etc.)"
   ]
  },
  {
   "cell_type": "code",
   "execution_count": 1,
   "metadata": {},
   "outputs": [],
   "source": [
    "import matplotlib as mpl\n",
    "import matplotlib.pyplot as plt\n",
    "\n",
    "from util import constraint, displayBoard\n",
    "from sympy import *\n",
    "from IPython.display import display\n",
    "init_printing()\n",
    "%matplotlib inline"
   ]
  },
  {
   "cell_type": "markdown",
   "metadata": {},
   "source": [
    "## II. Representing the N-Queens Problem\n",
    "There are many acceptable ways to represent the N-queens problem, but one convenient way is to recognize that one of the constraints (either the row or column constraint) can be enforced implicitly by the encoding.  If we represent a solution as an array with N elements, then each position in the array can represent a column of the board, and the value at each position can represent which row the queen is placed on.\n",
    "\n",
    "In this encoding, we only need a constraint to make sure that no two queens occupy the same row, and one to make sure that no two queens occupy the same diagonal.\n",
    "\n",
    "### Define Symbolic Expressions for the Problem Constraints\n",
    "Before implementing the board class, we need to construct the symbolic constraints that will be used in the CSP.  Declare any symbolic terms required, and then declare two generic constraint generators:\n",
    "- `diffRow` - generate constraints that return True if the two arguments do not match\n",
    "- `diffDiag` - generate constraints that return True if two arguments are not on the same diagonal (Hint: you can easily test whether queens in two columns are on the same diagonal by testing if the difference in the number of rows and the number of columns match)\n",
    "\n",
    "Both generators should produce binary constraints (i.e., each should have two free symbols) once they're bound to specific variables in the CSP.  For example, Eq((a + b), (b + c)) is not a binary constraint, but Eq((a + b), (b + c)).subs(b, 1) _is_ a binary constraint because one of the terms has been bound to a constant, so there are only two free variables remaining. "
   ]
  },
  {
   "cell_type": "code",
   "execution_count": 102,
   "metadata": {},
   "outputs": [],
   "source": [
    "# Declare any required symbolic variables\n",
    "A = symbols(\"A:2\")\n",
    "#B = symbols(\"B:2\")\n",
    "c = symbols(\"c\")\n",
    "#display(A)\n",
    "\n",
    "#raise NotImplementedError(\"TODO: declare symbolic variables for the constraint generators\")\n",
    "\n",
    "# Define diffRow and diffDiag constraints\n",
    "#raise NotImplementedError(\"TODO: create the diffRow and diffDiag constraint generators\")\n",
    "\n",
    "diffRow = constraint('DiffRow', Ne(A[0], A[1]))\n",
    "#diffDiag = constraint('DiffDiag', Eq(abs(A[0] - A[1]), abs(A.index(A[0]) - A.index(A[1]))))\n",
    "diffDiag = constraint('DiffDiag', Ne(abs(A[0] - A[1]), c))"
   ]
  },
  {
   "cell_type": "code",
   "execution_count": 103,
   "metadata": {},
   "outputs": [
    {
     "name": "stdout",
     "output_type": "stream",
     "text": [
      "Passed all diffRow tests.\n"
     ]
    },
    {
     "data": {
      "image/png": "[encoded data removed]",
      "text/latex": [
       "$$\\operatorname{DiffDiag}{\\left (x_{2},x_{0} \\right )}$$"
      ],
      "text/plain": [
       "DiffDiag(x₂, x₀)"
      ]
     },
     "metadata": {},
     "output_type": "display_data"
    },
    {
     "name": "stdout",
     "output_type": "stream",
     "text": [
      "Passed all diffDiag tests.\n"
     ]
    }
   ],
   "source": [
    "# Test diffRow and diffDiag\n",
    "_x = symbols(\"x:3\")\n",
    "\n",
    "# generate a diffRow instance for testing\n",
    "\n",
    "#raise NotImplementedError(\"TODO: use your diffRow constraint to generate a diffRow constraint for _x[0] and _x[1]\")\n",
    "diffRow_test = diffRow.subs({A[0]:_x[0], A[1]:_x[1]})\n",
    "\n",
    "assert(len(diffRow_test.free_symbols) == 2)\n",
    "assert(diffRow_test.subs({_x[0]: 0, _x[1]: 1}) == True)\n",
    "assert(diffRow_test.subs({_x[0]: 0, _x[1]: 0}) == False)\n",
    "assert(diffRow_test.subs({_x[0]: 0}) != False)  # partial assignment is not false\n",
    "print(\"Passed all diffRow tests.\")\n",
    "\n",
    "# generate a diffDiag instance for testing\n",
    "#raise NotImplementedError(\"TODO: use your diffDiag constraint to generate a diffDiag constraint for _x[0] and _x[2]\")\n",
    "diffDiag_test = diffDiag.subs({A[0]:_x[0], A[1]:_x[2], c:2})\n",
    "display(diffDiag_test)\n",
    "\n",
    "assert(len(diffDiag_test.free_symbols) == 2)\n",
    "assert(diffDiag_test.subs({_x[0]: 0, _x[2]: 2}) == False)\n",
    "assert(diffDiag_test.subs({_x[0]: 0, _x[2]: 0}) == True)\n",
    "assert(diffDiag_test.subs({_x[0]: 0}) != False)  # partial assignment is not false\n",
    "print(\"Passed all diffDiag tests.\")"
   ]
  },
  {
   "cell_type": "markdown",
   "metadata": {},
   "source": [
    "### The N-Queens CSP Class\n",
    "Implement the CSP class as described above, with constraints to make sure each queen is on a different row and different diagonal than every other queen, and a variable for each column defining the row that containing a queen in that column."
   ]
  },
  {
   "cell_type": "code",
   "execution_count": 309,
   "metadata": {},
   "outputs": [],
   "source": [
    "class NQueensCSP:\n",
    "    \"\"\"CSP representation of the N-queens problem\n",
    "    \n",
    "    Parameters\n",
    "    ----------\n",
    "    N : Integer\n",
    "        The side length of a square chess board to use for the problem, and\n",
    "        the number of queens that must be placed on the board\n",
    "    \"\"\"\n",
    "    def __init__(self, N):\n",
    "        #raise NotImplementedError(\"TODO: declare symbolic variables in self._vars in the CSP constructor\")\n",
    "        _vars = symbols(\"X:\" + str(N))\n",
    "        _domain = set(range(N))\n",
    "        self.size = N\n",
    "        self.variables = _vars\n",
    "        self.domains = {v: _domain for v in _vars}\n",
    "        self._constraints = {x: set() for x in _vars}\n",
    "\n",
    "        # add constraints - for each pair of variables xi and xj, create\n",
    "        # a diffRow(xi, xj) and a diffDiag(xi, xj) instance, and add them\n",
    "        # to the self._constraints dictionary keyed to both xi and xj;\n",
    "        # (i.e., add them to both self._constraints[xi] and self._constraints[xj])\n",
    "        #raise NotImplementedError(\"TODO: add constraints in self._constraints in the CSP constructor\")\n",
    "        \n",
    "        X = self.variables\n",
    "        #display(self.variables)\n",
    "        display(A)\n",
    "        for i in range(N-1):\n",
    "            for j in range(i+1, N):\n",
    "                diffRow_ij = diffRow.subs({A[0]:X[i], A[1]:X[j]})\n",
    "                self._constraints[X[i]].add(diffRow.subs({A[0]:X[i], A[1]:X[j]}))\n",
    "                self._constraints[X[j]].add(diffRow.subs({A[0]:X[i], A[1]:X[j]}))\n",
    "                #diffRow_ij = None\n",
    "                \n",
    "                # Use c:(j-i) as c must be positive\n",
    "                diffDiag_ij = diffDiag.subs({A[0]:X[i], A[1]:X[j], c:(j-i)})\n",
    "                self._constraints[X[i]].add(diffDiag.subs({A[0]:X[i], A[1]:X[j], c:(j-i)}))\n",
    "                self._constraints[X[j]].add(diffDiag.subs({A[0]:X[i], A[1]:X[j], c:(j-i)}))\n",
    "                #diffDiag_ij = None\n",
    "        \n",
    "    @property\n",
    "    def constraints(self):\n",
    "        \"\"\"Read-only list of constraints -- cannot be used for evaluation \"\"\"\n",
    "        constraints = set()\n",
    "        for _cons in self._constraints.values():\n",
    "            constraints |= _cons\n",
    "        #display(constraints)\n",
    "        return list(constraints)\n",
    "    \n",
    "    def is_complete(self, assignment):\n",
    "        \"\"\"An assignment is complete if it is consistent, and all constraints\n",
    "        are satisfied.\n",
    "        \n",
    "        Hint: Backtracking search checks consistency of each assignment, so checking\n",
    "        for completeness can be done very efficiently\n",
    "        \n",
    "        Parameters\n",
    "        ----------\n",
    "        assignment : dict(sympy.Symbol: Integer)\n",
    "            An assignment of values to variables that have previously been checked\n",
    "            for consistency with the CSP constraints\n",
    "        \"\"\"\n",
    "        return len(assignment) == self.size\n",
    "    \n",
    "    def is_consistent(self, var, value, assignment):\n",
    "        \"\"\"Check consistency of a proposed variable assignment\n",
    "                \n",
    "        self._constraints[x] returns a set of constraints that involve variable `x`.\n",
    "        An assignment is consistent unless the assignment it causes a constraint to\n",
    "        return False (partial assignments are always consistent).\n",
    "        \n",
    "        Parameters\n",
    "        ----------\n",
    "        var : sympy.Symbol\n",
    "            One of the symbolic variables in the CSP\n",
    "            \n",
    "        value : Numeric\n",
    "            A valid value (i.e., in the domain of) the variable `var` for assignment\n",
    "\n",
    "        assignment : dict(sympy.Symbol: Integer)\n",
    "            A dictionary mapping CSP variables to row assignment of each queen\n",
    "            \n",
    "        \"\"\"\n",
    "        if var in assignment:\n",
    "            return False\n",
    "        \n",
    "        check = True\n",
    "        '''\n",
    "        for constraint in self._constraints[var]:\n",
    "            constraint2 = constraint.subs(var, value)\n",
    "            if len(constraint2.free_symbols) == 0:\n",
    "                # To avoid checking for partial assignments\n",
    "                check |= constraint2\n",
    "        \n",
    "        return check\n",
    "        '''\n",
    "        \n",
    "        # To optimize\n",
    "        X = self.variables\n",
    "        N = len(X)\n",
    "        assignment[var] = value  \n",
    "        #print(100, assignment.keys(), assignment.values())\n",
    "        for constraint in self.constraints:\n",
    "            #temp = all(constraint.subs(zip(X[:N], vals)) == True for key, vals in assignment.items())\n",
    "            for key in constraint.free_symbols:\n",
    "                if key in assignment:\n",
    "                    value = assignment[key]\n",
    "                    constraint = constraint.subs(key, value)\n",
    "            if len(constraint.free_symbols) == 0:\n",
    "                check &= constraint\n",
    "        \n",
    "        if not check:\n",
    "            assignment.pop(var)\n",
    "        \n",
    "        return check\n",
    "        #'''\n",
    "        \n",
    "    def inference(self, var, value):\n",
    "        \"\"\"Perform logical inference based on proposed variable assignment\n",
    "        \n",
    "        Returns an empty dictionary by default; function can be overridden to\n",
    "        check arc-, path-, or k-consistency; returning None signals \"failure\".\n",
    "        \n",
    "        Parameters\n",
    "        ----------\n",
    "        var : sympy.Symbol\n",
    "            One of the symbolic variables in the CSP\n",
    "        \n",
    "        value : Integer\n",
    "            A valid value (i.e., in the domain of) the variable `var` for assignment\n",
    "            \n",
    "        Returns\n",
    "        -------\n",
    "        dict(sympy.Symbol: Integer) or None\n",
    "            A partial set of values mapped to variables in the CSP based on inferred\n",
    "            constraints from previous mappings, or None to indicate failure\n",
    "        \"\"\"\n",
    "        def arc():\n",
    "            for constraint in self.constraints:\n",
    "                if var in constraint.free_symbols:\n",
    "                    constraint2 = constraint.subs(var, value)\n",
    "                    other_var = constraint2.free_symbols.pop()\n",
    "                    if value in self.domains[other_var]:\n",
    "                        self.domains[other_var].remove(value)\n",
    "                        if len(self.domains[other_var]) == 0:\n",
    "                            return None\n",
    "\n",
    "            return {}\n",
    "        \n",
    "        #return arc()\n",
    "        # TODO (Optional): Implement this function based on AIMA discussion\n",
    "        return {}\n",
    "    \n",
    "    def show(self, assignment):\n",
    "        \"\"\"Display a chessboard with queens drawn in the locations specified by an\n",
    "        assignment\n",
    "        \n",
    "        Parameters\n",
    "        ----------\n",
    "        assignment : dict(sympy.Symbol: Integer)\n",
    "            A dictionary mapping CSP variables to row assignment of each queen\n",
    "            \n",
    "        \"\"\"\n",
    "        locations = [(i, assignment[j]) for i, j in enumerate(self.variables)\n",
    "                     if assignment.get(j, None) is not None]\n",
    "        displayBoard(locations, self.size)"
   ]
  },
  {
   "cell_type": "markdown",
   "metadata": {
    "collapsed": true
   },
   "source": [
    "## III. Backtracking Search\n",
    "Implement the [backtracking search](https://github.com/aimacode/aima-pseudocode/blob/master/md/Backtracking-Search.md) algorithm (required) and helper functions (optional) from the AIMA text.  "
   ]
  },
  {
   "cell_type": "code",
   "execution_count": 310,
   "metadata": {},
   "outputs": [],
   "source": [
    "def select(csp, assignment):\n",
    "    \"\"\"Choose an unassigned variable in a constraint satisfaction problem \"\"\"\n",
    "    # TODO (Optional): Implement a more sophisticated selection routine from AIMA\n",
    "    \n",
    "    def sequential_select():\n",
    "        for var in csp.variables:\n",
    "            if var not in assignment:\n",
    "                return var\n",
    "\n",
    "        return None\n",
    "\n",
    "    def degree_heuri():\n",
    "        limits = {} # {X0: [X2,X3,X4]} # X0 limits X2, X3, X4\n",
    "        for var in csp.variables:\n",
    "            if var not in assignment:\n",
    "                limits[var] = []\n",
    "                \n",
    "        for constraint in csp.constraints:\n",
    "            if len(constraint.free_symbols) == 2:\n",
    "                a, b = constraint.free_symbols\n",
    "                if a not in assignment:\n",
    "                    limits[a] += [b]\n",
    "                if b not in assignment:\n",
    "                    limits[b] += [a]\n",
    "            else:\n",
    "                display(constraint.free_symbols)\n",
    "        max_var = None\n",
    "        max_len = 0\n",
    "        for k, v in limits.items():\n",
    "            if len(v) > 0:\n",
    "                max_len = len(v)\n",
    "                max_var = k\n",
    "        return max_var\n",
    "        \n",
    "    def MRV():\n",
    "        count_rev = {}\n",
    "        for symbol, domain in csp.domains.items():\n",
    "            num = len(domain)\n",
    "            if num in count_rev:\n",
    "                count_rev[num] += [symbol]\n",
    "            else:\n",
    "                count_rev[num] = [symbol]\n",
    "        # Find the most constrained\n",
    "        num = max(count_rev.keys())\n",
    "        var = count_rev[num][0]\n",
    "        return var\n",
    "                \n",
    "    def MRV_dict():\n",
    "        # Minimum-remaining-values\n",
    "        #Xs = csp.variables\n",
    "        #N = len(Xs)\n",
    "        count = {}\n",
    "        constraints = csp.constraints\n",
    "        for constraint in constraints:\n",
    "            for key in constraint.free_symbols:\n",
    "                if key in assignment:\n",
    "                    value = assignment[key]\n",
    "                    constraint = constraint.subs(key, value)\n",
    "                else:\n",
    "                    if key not in count:\n",
    "                        count[key] = 1\n",
    "                    else:\n",
    "                        count[key] += 1\n",
    "        count_rev = {}\n",
    "        for symbol, num in count.items():\n",
    "            if num in count_rev:\n",
    "                count_rev[num] += [symbol]\n",
    "            else:\n",
    "                count_rev[num] = [symbol]\n",
    "        # Find the most constrained\n",
    "        num = max(count_rev.keys())\n",
    "        var = count_rev[num][0]\n",
    "        return var\n",
    "                \n",
    "        \n",
    "    #return sequential_select()\n",
    "    #return MRV0()\n",
    "    return degree_heuri()\n",
    "\n",
    "def order_values(var, assignment, csp):\n",
    "    \"\"\"Select the order of the values in the domain of a variable for checking during search;\n",
    "    the default is lexicographically.\n",
    "    \"\"\"\n",
    "    # TODO (Optional): Implement a more sophisticated search ordering routine from AIMA\n",
    "    \n",
    "    def sequential():\n",
    "        return csp.domains[var]\n",
    "    \n",
    "    def LCV():\n",
    "        # TODO: Least-constraining-value\n",
    "        pass\n",
    "    \n",
    "    return sequential()\n",
    "\n",
    "def backtracking_search(csp):\n",
    "    \"\"\"Helper function used to initiate backtracking search \"\"\"\n",
    "    return backtrack({}, csp)\n",
    "\n",
    "tried = 0\n",
    "\n",
    "def backtrack(assignment, csp):\n",
    "    \"\"\"Perform backtracking search for a valid assignment to a CSP\n",
    "    \n",
    "    Parameters\n",
    "    ----------\n",
    "    assignment : dict(sympy.Symbol: Integer)\n",
    "        An partial set of values mapped to variables in the CSP\n",
    "        \n",
    "    csp : CSP\n",
    "        A problem encoded as a CSP. Interface should include csp.variables, csp.domains,\n",
    "        csp.inference(), csp.is_consistent(), and csp.is_complete().\n",
    "    \n",
    "    Returns\n",
    "    -------\n",
    "    dict(sympy.Symbol: Integer) or None\n",
    "        A partial set of values mapped to variables in the CSP, or None to indicate failure\n",
    "    \"\"\"\n",
    "    global tried\n",
    "    full_domain = set(range(csp.size))\n",
    "    \n",
    "    if csp.is_complete(assignment):\n",
    "        return assignment\n",
    "    var = select(csp, assignment)\n",
    "    cand = order_values(var, assignment, csp)\n",
    "    for value in set(cand):\n",
    "        if csp.is_consistent(var, value, assignment):\n",
    "            assignment[var] = value\n",
    "            inferences = csp.inference(var, value)\n",
    "            if inferences != None:\n",
    "                for k, v in inferences:\n",
    "                    assignment[k] = v\n",
    "                result = backtrack(assignment, csp)\n",
    "                if result != None:\n",
    "                    return result\n",
    "            csp.domains[var] = [value]\n",
    "            \n",
    "        if var in assignment:\n",
    "            assignment.pop(var)\n",
    "            csp.domains[var] = full_domain\n",
    "        \n",
    "    return None"
   ]
  },
  {
   "cell_type": "markdown",
   "metadata": {},
   "source": [
    "### Solve the CSP\n",
    "With backtracking implemented, now you can use it to solve instances of the problem. We've started with the classical 8-queen version, but you can try other sizes as well.  Boards larger than 12x12 may take some time to solve because sympy is slow in the way its being used here, and because the selection and value ordering methods haven't been implemented.  See if you can implement any of the techniques in the AIMA text to speed up the solver!"
   ]
  },
  {
   "cell_type": "code",
   "execution_count": 311,
   "metadata": {
    "scrolled": true
   },
   "outputs": [
    {
     "data": {
      "image/png": "[encoded data removed]",
      "text/latex": [
       "$$\\left ( A_{0}, \\quad A_{1}\\right )$$"
      ],
      "text/plain": [
       "(A₀, A₁)"
      ]
     },
     "metadata": {},
     "output_type": "display_data"
    },
    {
     "name": "stdout",
     "output_type": "stream",
     "text": [
      "CSP problems have variables, each variable has a domain, and the problem has a list of constraints.\n",
      "Showing the variables for the N-Queens CSP:\n",
      "Showing domain for X1:\n"
     ]
    },
    {
     "data": {
      "image/png": "[encoded data removed]",
      "text/latex": [
       "$$\\left\\{0, 1, 2, 3, 4, 5, 6, 7\\right\\}$$"
      ],
      "text/plain": [
       "set([0, 1, 2, 3, 4, 5, 6, 7])"
      ]
     },
     "metadata": {},
     "output_type": "display_data"
    },
    {
     "name": "stdout",
     "output_type": "stream",
     "text": [
      "And showing the constraints for X1:\n"
     ]
    },
    {
     "data": {
      "image/png": "[encoded data removed]",
      "text/latex": [
       "$$\\left\\{\\operatorname{DiffDiag}{\\left (X_{0},X_{1} \\right )}, \\operatorname{DiffDiag}{\\left (X_{1},X_{2} \\right )}, \\operatorname{DiffDiag}{\\left (X_{1},X_{3} \\right )}, \\operatorname{DiffDiag}{\\left (X_{1},X_{4} \\right )}, \\operatorname{DiffDiag}{\\left (X_{1},X_{6} \\right )}, \\operatorname{DiffDiag}{\\left (X_{5},X_{1} \\right )}, \\operatorname{DiffDiag}{\\left (X_{7},X_{1} \\right )}, \\operatorname{DiffRow}{\\left (X_{0},X_{1} \\right )}, \\operatorname{DiffRow}{\\left (X_{1},X_{2} \\right )}, \\operatorname{DiffRow}{\\left (X_{1},X_{3} \\right )}, \\operatorname{DiffRow}{\\left (X_{1},X_{4} \\right )}, \\operatorname{DiffRow}{\\left (X_{1},X_{6} \\right )}, \\operatorname{DiffRow}{\\left (X_{5},X_{1} \\right )}, \\operatorname{DiffRow}{\\left (X_{7},X_{1} \\right )}\\right\\}$$"
      ],
      "text/plain": [
       "set([DiffDiag(X₀, X₁), DiffDiag(X₁, X₂), DiffDiag(X₁, X₃), DiffDiag(X₁, X₄), D\n",
       "iffDiag(X₁, X₆), DiffDiag(X₅, X₁), DiffDiag(X₇, X₁), DiffRow(X₀, X₁), DiffRow(\n",
       "X₁, X₂), DiffRow(X₁, X₃), DiffRow(X₁, X₄), DiffRow(X₁, X₆), DiffRow(X₅, X₁), D\n",
       "iffRow(X₇, X₁)])"
      ]
     },
     "metadata": {},
     "output_type": "display_data"
    },
    {
     "name": "stdout",
     "output_type": "stream",
     "text": [
      "Solving N-Queens CSP...\n",
      "{X7: 0, X6: 4, X5: 7, X4: 5, X3: 2, X2: 6, X1: 1, X0: 3}\n"
     ]
    },
    {
     "data": {
      "image/png": "[encoded data removed]",
      "text/plain": [
       "<matplotlib.figure.Figure at 0x10d880630>"
      ]
     },
     "metadata": {},
     "output_type": "display_data"
    },
    {
     "name": "stdout",
     "output_type": "stream",
     "text": [
      "Solution found:\n",
      "{X7: 0, X6: 4, X5: 7, X4: 5, X3: 2, X2: 6, X1: 1, X0: 3}\n"
     ]
    }
   ],
   "source": [
    "num_queens = 8\n",
    "csp = NQueensCSP(num_queens)\n",
    "var = csp.variables[1]\n",
    "print(\"CSP problems have variables, each variable has a domain, and the problem has a list of constraints.\")\n",
    "print(\"Showing the variables for the N-Queens CSP:\")\n",
    "#display(csp.variables)\n",
    "print(\"Showing domain for {}:\".format(var))\n",
    "display(csp.domains[var])\n",
    "print(\"And showing the constraints for {}:\".format(var))\n",
    "display(csp._constraints[var])\n",
    "\n",
    "#display(csp.constraints)\n",
    "\n",
    "print(\"Solving N-Queens CSP...\")\n",
    "assn = backtracking_search(csp)\n",
    "#display(csp._constraints[var].pop().free_symbols)\n",
    "print(assn)\n",
    "#print(csp.domains)\n",
    "if assn is not None:\n",
    "    csp.show(assn)\n",
    "    print(\"Solution found:\\n{!s}\".format(assn))\n",
    "else:\n",
    "    print(\"No solution found.\")"
   ]
  },
  {
   "cell_type": "markdown",
   "metadata": {},
   "source": [
    "## IV. Experiments (Optional)\n",
    "For each optional experiment, discuss the answers to these questions on the forum: Do you expect this change to be more efficient, less efficient, or the same?  Why or why not?  Is your prediction correct?  What metric did you compare (e.g., time, space, nodes visited, etc.)?\n",
    "\n",
    "- Implement a _bad_ N-queens solver: generate & test candidate solutions one at a time until a valid solution is found.  For example, represent the board as an array with $N^2$ elements, and let each element be True if there is a queen in that box, and False if it is empty.  Use an $N^2$-bit counter to generate solutions, then write a function to check if each solution is valid.  Notice that this solution doesn't require any of the techniques we've applied to other problems -- there is no DFS or backtracking, nor constraint propagation, or even explicitly defined variables.\n",
    "- Use more complex constraints -- i.e., generalize the binary constraint RowDiff to an N-ary constraint AllRowsDiff, etc., -- and solve the problem again.\n",
    "- Rewrite the CSP class to use forward checking to restrict the domain of each variable as new values are assigned.\n",
    "- The sympy library isn't very fast, so this version of the CSP doesn't work well on boards bigger than about 12x12.  Write a new representation of the problem class that uses constraint functions (like the Sudoku project) to implicitly track constraint satisfaction through the restricted domain of each variable.  How much larger can you solve?\n",
    "- Create your own CSP!"
   ]
  },
  {
   "cell_type": "code",
   "execution_count": null,
   "metadata": {
    "collapsed": true
   },
   "outputs": [],
   "source": []
  }
 ],
 "metadata": {
  "anaconda-cloud": {},
  "kernelspec": {
   "display_name": "Python 3",
   "language": "python",
   "name": "python3"
  },
  "language_info": {
   "codemirror_mode": {
    "name": "ipython",
    "version": 3
   },
   "file_extension": ".py",
   "mimetype": "text/x-python",
   "name": "python",
   "nbconvert_exporter": "python",
   "pygments_lexer": "ipython3",
   "version": "3.6.0"
  }
 },
 "nbformat": 4,
 "nbformat_minor": 1
}
